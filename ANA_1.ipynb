{
  "nbformat": 4,
  "nbformat_minor": 0,
  "metadata": {
    "colab": {
      "name": "ANA-1.ipynb",
      "provenance": [],
      "authorship_tag": "ABX9TyPjRsHjMG8wqwSFYUrHuP4P",
      "include_colab_link": true
    },
    "kernelspec": {
      "name": "python3",
      "display_name": "Python 3"
    },
    "language_info": {
      "name": "python"
    }
  },
  "cells": [
    {
      "cell_type": "markdown",
      "metadata": {
        "id": "view-in-github",
        "colab_type": "text"
      },
      "source": [
        "<a href=\"https://colab.research.google.com/github/Soumi7/100_Days_of_DSA/blob/main/ANA_1.ipynb\" target=\"_parent\"><img src=\"https://colab.research.google.com/assets/colab-badge.svg\" alt=\"Open In Colab\"/></a>"
      ]
    },
    {
      "cell_type": "code",
      "source": [
        ""
      ],
      "metadata": {
        "id": "1meLb8ChSEUC"
      },
      "execution_count": null,
      "outputs": []
    },
    {
      "cell_type": "code",
      "execution_count": 4,
      "metadata": {
        "id": "3WfE-D3lJOmu"
      },
      "outputs": [],
      "source": [
        "import numpy as np\n",
        "%matplotlib inline\n",
        "import matplotlib.image as mpimg\n",
        "import matplotlib.pyplot as plt\n",
        "import tensorflow as tf\n",
        "tf.compat.v1.set_random_seed(2019)"
      ]
    },
    {
      "cell_type": "code",
      "source": [
        "model = tf.keras.models.Sequential([\n",
        "    tf.keras.layers.Conv2D(16,(3,3),activation = \"relu\" , input_shape = (180,180,3)) ,\n",
        "    tf.keras.layers.MaxPooling2D(2,2),\n",
        "    tf.keras.layers.Conv2D(32,(3,3),activation = \"relu\") ,  \n",
        "    tf.keras.layers.MaxPooling2D(2,2),\n",
        "    tf.keras.layers.Conv2D(64,(3,3),activation = \"relu\") ,  \n",
        "    tf.keras.layers.MaxPooling2D(2,2),\n",
        "    tf.keras.layers.Conv2D(128,(3,3),activation = \"relu\"),  \n",
        "    tf.keras.layers.MaxPooling2D(2,2),\n",
        "    tf.keras.layers.Flatten(), \n",
        "    tf.keras.layers.Dense(550,activation=\"relu\"),      #Adding the Hidden layer\n",
        "    tf.keras.layers.Dropout(0.1,seed = 2019),\n",
        "    tf.keras.layers.Dense(400,activation =\"relu\"),\n",
        "    tf.keras.layers.Dropout(0.3,seed = 2019),\n",
        "    tf.keras.layers.Dense(300,activation=\"relu\"),\n",
        "    tf.keras.layers.Dropout(0.4,seed = 2019),\n",
        "    tf.keras.layers.Dense(200,activation =\"relu\"),\n",
        "    tf.keras.layers.Dropout(0.2,seed = 2019),\n",
        "    tf.keras.layers.Dense(4,activation = \"softmax\")   #Adding the Output Layer\n",
        "])"
      ],
      "metadata": {
        "id": "HAWXwC9fJUZ8"
      },
      "execution_count": 11,
      "outputs": []
    },
    {
      "cell_type": "code",
      "source": [
        "model.summary()"
      ],
      "metadata": {
        "colab": {
          "base_uri": "https://localhost:8080/"
        },
        "id": "aJ37jhezJbBH",
        "outputId": "0c9d3751-6809-4a79-95f8-66c99d1c8098"
      },
      "execution_count": 12,
      "outputs": [
        {
          "output_type": "stream",
          "name": "stdout",
          "text": [
            "Model: \"sequential_1\"\n",
            "_________________________________________________________________\n",
            " Layer (type)                Output Shape              Param #   \n",
            "=================================================================\n",
            " conv2d_4 (Conv2D)           (None, 178, 178, 16)      448       \n",
            "                                                                 \n",
            " max_pooling2d_4 (MaxPooling  (None, 89, 89, 16)       0         \n",
            " 2D)                                                             \n",
            "                                                                 \n",
            " conv2d_5 (Conv2D)           (None, 87, 87, 32)        4640      \n",
            "                                                                 \n",
            " max_pooling2d_5 (MaxPooling  (None, 43, 43, 32)       0         \n",
            " 2D)                                                             \n",
            "                                                                 \n",
            " conv2d_6 (Conv2D)           (None, 41, 41, 64)        18496     \n",
            "                                                                 \n",
            " max_pooling2d_6 (MaxPooling  (None, 20, 20, 64)       0         \n",
            " 2D)                                                             \n",
            "                                                                 \n",
            " conv2d_7 (Conv2D)           (None, 18, 18, 128)       73856     \n",
            "                                                                 \n",
            " max_pooling2d_7 (MaxPooling  (None, 9, 9, 128)        0         \n",
            " 2D)                                                             \n",
            "                                                                 \n",
            " flatten_1 (Flatten)         (None, 10368)             0         \n",
            "                                                                 \n",
            " dense_5 (Dense)             (None, 550)               5702950   \n",
            "                                                                 \n",
            " dropout_4 (Dropout)         (None, 550)               0         \n",
            "                                                                 \n",
            " dense_6 (Dense)             (None, 400)               220400    \n",
            "                                                                 \n",
            " dropout_5 (Dropout)         (None, 400)               0         \n",
            "                                                                 \n",
            " dense_7 (Dense)             (None, 300)               120300    \n",
            "                                                                 \n",
            " dropout_6 (Dropout)         (None, 300)               0         \n",
            "                                                                 \n",
            " dense_8 (Dense)             (None, 200)               60200     \n",
            "                                                                 \n",
            " dropout_7 (Dropout)         (None, 200)               0         \n",
            "                                                                 \n",
            " dense_9 (Dense)             (None, 4)                 804       \n",
            "                                                                 \n",
            "=================================================================\n",
            "Total params: 6,202,094\n",
            "Trainable params: 6,202,094\n",
            "Non-trainable params: 0\n",
            "_________________________________________________________________\n"
          ]
        }
      ]
    },
    {
      "cell_type": "code",
      "source": [
        "from tensorflow.keras.optimizers import RMSprop,SGD,Adam\n",
        "adam=Adam(lr=0.001)\n",
        "model.compile(optimizer='adam', loss='categorical_crossentropy', metrics = ['acc'])"
      ],
      "metadata": {
        "colab": {
          "base_uri": "https://localhost:8080/"
        },
        "id": "S4rgfFXWJepY",
        "outputId": "1023aaa6-8940-4091-be24-f2e7439f4965"
      },
      "execution_count": 13,
      "outputs": [
        {
          "output_type": "stream",
          "name": "stderr",
          "text": [
            "/usr/local/lib/python3.7/dist-packages/keras/optimizer_v2/adam.py:105: UserWarning: The `lr` argument is deprecated, use `learning_rate` instead.\n",
            "  super(Adam, self).__init__(name, **kwargs)\n"
          ]
        }
      ]
    },
    {
      "cell_type": "code",
      "source": [
        "bs=30         #Setting batch size\n",
        "train_dir = \"/content/drive/MyDrive/ANA_Project/DATASET-v1/Train\"   #Setting training directory\n",
        "validation_dir = \"/content/drive/MyDrive/ANA_Project/DATASET-v1/Test\"   #Setting testing directory\n",
        "from tensorflow.keras.preprocessing.image import ImageDataGenerator \n",
        "# All images will be rescaled by 1./255.\n",
        "train_datagen = ImageDataGenerator( rescale = 1.0/255. )\n",
        "test_datagen  = ImageDataGenerator( rescale = 1.0/255. )\n",
        "# Flow training images in batches of 20 using train_datagen generator\n",
        "#Flow_from_directory function lets the classifier directly identify the labels from the name of the directories the image lies in\n",
        "train_generator=train_datagen.flow_from_directory(train_dir,batch_size=bs,class_mode='categorical',target_size=(180,180))\n",
        "# Flow validation images in batches of 20 using test_datagen generator\n",
        "validation_generator =  test_datagen.flow_from_directory(validation_dir,\n",
        "                                                         batch_size=bs,\n",
        "                                                         class_mode  = 'categorical',\n",
        "                                                         target_size=(180,180))"
      ],
      "metadata": {
        "colab": {
          "base_uri": "https://localhost:8080/"
        },
        "id": "Ii40scgsJi_k",
        "outputId": "043fd878-4490-4b2c-912d-377a4f6604fb"
      },
      "execution_count": 14,
      "outputs": [
        {
          "output_type": "stream",
          "name": "stdout",
          "text": [
            "Found 159 images belonging to 4 classes.\n",
            "Found 50 images belonging to 4 classes.\n"
          ]
        }
      ]
    },
    {
      "cell_type": "code",
      "source": [
        "from google.colab import drive\n",
        "drive.mount('/content/drive')"
      ],
      "metadata": {
        "colab": {
          "base_uri": "https://localhost:8080/"
        },
        "id": "6e8_e7GsRrkw",
        "outputId": "b3756e70-3e09-4531-889b-51663e07f78b"
      },
      "execution_count": 15,
      "outputs": [
        {
          "output_type": "stream",
          "name": "stdout",
          "text": [
            "Drive already mounted at /content/drive; to attempt to forcibly remount, call drive.mount(\"/content/drive\", force_remount=True).\n"
          ]
        }
      ]
    },
    {
      "cell_type": "code",
      "source": [
        "history = model.fit(train_generator,\n",
        "                    validation_data=validation_generator,\n",
        "                    steps_per_epoch=150 // bs,\n",
        "                    epochs=30,\n",
        "                    validation_steps=50 // bs,\n",
        "                    verbose=2)"
      ],
      "metadata": {
        "colab": {
          "base_uri": "https://localhost:8080/"
        },
        "id": "7ta9IkmoJmD4",
        "outputId": "12138593-2f95-4f20-a53f-44b2dcf17053"
      },
      "execution_count": 16,
      "outputs": [
        {
          "output_type": "stream",
          "name": "stdout",
          "text": [
            "Epoch 1/30\n",
            "5/5 - 56s - loss: 1.1818 - acc: 0.5194 - val_loss: 1.1690 - val_acc: 0.5000 - 56s/epoch - 11s/step\n",
            "Epoch 2/30\n",
            "5/5 - 6s - loss: 1.0791 - acc: 0.5116 - val_loss: 0.9422 - val_acc: 0.6000 - 6s/epoch - 1s/step\n",
            "Epoch 3/30\n",
            "5/5 - 6s - loss: 1.0423 - acc: 0.5271 - val_loss: 1.0088 - val_acc: 0.4667 - 6s/epoch - 1s/step\n",
            "Epoch 4/30\n",
            "5/5 - 6s - loss: 0.9927 - acc: 0.5349 - val_loss: 0.8805 - val_acc: 0.6000 - 6s/epoch - 1s/step\n",
            "Epoch 5/30\n",
            "5/5 - 6s - loss: 0.9970 - acc: 0.5504 - val_loss: 1.0683 - val_acc: 0.3667 - 6s/epoch - 1s/step\n",
            "Epoch 6/30\n",
            "5/5 - 6s - loss: 0.9820 - acc: 0.5271 - val_loss: 0.9110 - val_acc: 0.5333 - 6s/epoch - 1s/step\n",
            "Epoch 7/30\n",
            "5/5 - 6s - loss: 0.9029 - acc: 0.5426 - val_loss: 0.9786 - val_acc: 0.5000 - 6s/epoch - 1s/step\n",
            "Epoch 8/30\n",
            "5/5 - 6s - loss: 0.8709 - acc: 0.5659 - val_loss: 0.8193 - val_acc: 0.7667 - 6s/epoch - 1s/step\n",
            "Epoch 9/30\n",
            "5/5 - 6s - loss: 0.8118 - acc: 0.6744 - val_loss: 0.9435 - val_acc: 0.5667 - 6s/epoch - 1s/step\n",
            "Epoch 10/30\n",
            "5/5 - 7s - loss: 0.7859 - acc: 0.6067 - val_loss: 0.8389 - val_acc: 0.7000 - 7s/epoch - 1s/step\n",
            "Epoch 11/30\n",
            "5/5 - 6s - loss: 0.7107 - acc: 0.6899 - val_loss: 0.6743 - val_acc: 0.6333 - 6s/epoch - 1s/step\n",
            "Epoch 12/30\n",
            "5/5 - 6s - loss: 0.6984 - acc: 0.6744 - val_loss: 0.6950 - val_acc: 0.6333 - 6s/epoch - 1s/step\n",
            "Epoch 13/30\n",
            "5/5 - 6s - loss: 0.7350 - acc: 0.6744 - val_loss: 0.8820 - val_acc: 0.6667 - 6s/epoch - 1s/step\n",
            "Epoch 14/30\n",
            "5/5 - 6s - loss: 0.5172 - acc: 0.8837 - val_loss: 0.9839 - val_acc: 0.6333 - 6s/epoch - 1s/step\n",
            "Epoch 15/30\n",
            "5/5 - 7s - loss: 0.4385 - acc: 0.7867 - val_loss: 0.9293 - val_acc: 0.7667 - 7s/epoch - 1s/step\n",
            "Epoch 16/30\n",
            "5/5 - 6s - loss: 0.2908 - acc: 0.8992 - val_loss: 1.1476 - val_acc: 0.5667 - 6s/epoch - 1s/step\n",
            "Epoch 17/30\n",
            "5/5 - 6s - loss: 0.2217 - acc: 0.9302 - val_loss: 4.3667 - val_acc: 0.5000 - 6s/epoch - 1s/step\n",
            "Epoch 18/30\n",
            "5/5 - 6s - loss: 0.4102 - acc: 0.8217 - val_loss: 1.4996 - val_acc: 0.6000 - 6s/epoch - 1s/step\n",
            "Epoch 19/30\n",
            "5/5 - 6s - loss: 0.2072 - acc: 0.9535 - val_loss: 1.7709 - val_acc: 0.5000 - 6s/epoch - 1s/step\n",
            "Epoch 20/30\n",
            "5/5 - 6s - loss: 0.1598 - acc: 0.9457 - val_loss: 2.1898 - val_acc: 0.7000 - 6s/epoch - 1s/step\n",
            "Epoch 21/30\n",
            "5/5 - 6s - loss: 0.1466 - acc: 0.9302 - val_loss: 2.1572 - val_acc: 0.7667 - 6s/epoch - 1s/step\n",
            "Epoch 22/30\n",
            "5/5 - 6s - loss: 0.0734 - acc: 0.9535 - val_loss: 2.1788 - val_acc: 0.6667 - 6s/epoch - 1s/step\n",
            "Epoch 23/30\n",
            "5/5 - 6s - loss: 0.0496 - acc: 0.9767 - val_loss: 5.0726 - val_acc: 0.6000 - 6s/epoch - 1s/step\n",
            "Epoch 24/30\n",
            "5/5 - 6s - loss: 0.0719 - acc: 0.9690 - val_loss: 2.5491 - val_acc: 0.6000 - 6s/epoch - 1s/step\n",
            "Epoch 25/30\n",
            "5/5 - 6s - loss: 0.0479 - acc: 0.9690 - val_loss: 4.3915 - val_acc: 0.5333 - 6s/epoch - 1s/step\n",
            "Epoch 26/30\n",
            "5/5 - 7s - loss: 0.0696 - acc: 0.9667 - val_loss: 3.3284 - val_acc: 0.6000 - 7s/epoch - 1s/step\n",
            "Epoch 27/30\n",
            "5/5 - 6s - loss: 0.0675 - acc: 0.9612 - val_loss: 4.1736 - val_acc: 0.6333 - 6s/epoch - 1s/step\n",
            "Epoch 28/30\n",
            "5/5 - 6s - loss: 0.0546 - acc: 0.9767 - val_loss: 4.7598 - val_acc: 0.5667 - 6s/epoch - 1s/step\n",
            "Epoch 29/30\n",
            "5/5 - 7s - loss: 0.0799 - acc: 0.9933 - val_loss: 5.4852 - val_acc: 0.6333 - 7s/epoch - 1s/step\n",
            "Epoch 30/30\n",
            "5/5 - 6s - loss: 0.0391 - acc: 0.9922 - val_loss: 2.5943 - val_acc: 0.7333 - 6s/epoch - 1s/step\n"
          ]
        }
      ]
    }
  ]
}